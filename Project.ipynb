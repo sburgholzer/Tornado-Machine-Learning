{
 "cells": [
  {
   "cell_type": "markdown",
   "metadata": {},
   "source": [
    "# Machine Learning Project\n",
    "## Scott Burgholzer\n",
    "\n",
    "Data Name: Storm Events Database\n",
    "\n",
    "Data source: https://www.ncdc.noaa.gov/stormevents/ftp.jsp\n",
    "\n",
    "used the files that start with StormEvents_details\n",
    "\n",
    "Only used years 2007 - 2018"
   ]
  },
  {
   "cell_type": "code",
   "execution_count": 1,
   "metadata": {},
   "outputs": [
    {
     "name": "stderr",
     "output_type": "stream",
     "text": [
      "/Users/scottburgholzer/anaconda/anaconda2/lib/python2.7/site-packages/sklearn/cross_validation.py:41: DeprecationWarning: This module was deprecated in version 0.18 in favor of the model_selection module into which all the refactored classes and functions are moved. Also note that the interface of the new CV iterators are different from that of this module. This module will be removed in 0.20.\n",
      "  \"This module will be removed in 0.20.\", DeprecationWarning)\n"
     ]
    },
    {
     "name": "stdout",
     "output_type": "stream",
     "text": [
      "       INJURIES_DIRECT  INJURIES_INDIRECT  DEATHS_DIRECT  DEATHS_INDIRECT  \\\n",
      "52239                0                  0              0                0   \n",
      "37149                0                  0              0                0   \n",
      "8412                 0                  0              0                0   \n",
      "59566                0                  0              0                0   \n",
      "70432                0                  0              0                0   \n",
      "\n",
      "      DAMAGE_PROPERTY DAMAGE_CROPS TOR_F_SCALE  TOR_LENGTH  TOR_WIDTH  \n",
      "52239           0.00K        0.00K         EF0        2.50       50.0  \n",
      "37149          30.00K        0.00K         EF0        1.19      100.0  \n",
      "8412            0.00K        0.00K         EF2        9.00      250.0  \n",
      "59566           0.00K        0.00K         EF0        4.88       80.0  \n",
      "70432          10.00K        0.00K         EF0        0.10      100.0  \n",
      "       INJURIES_DIRECT  INJURIES_INDIRECT  DEATHS_DIRECT  DEATHS_INDIRECT  \\\n",
      "28595                0                  0              0                0   \n",
      "7996                 0                  0              0                0   \n",
      "24663                0                  0              0                0   \n",
      "40682                0                  0              0                0   \n",
      "59276                0                  0              0                0   \n",
      "\n",
      "      DAMAGE_PROPERTY DAMAGE_CROPS TOR_F_SCALE  TOR_LENGTH  TOR_WIDTH  \n",
      "28595             NaN          NaN         EF1        4.80      150.0  \n",
      "7996              NaN          NaN         EF0       10.39      550.0  \n",
      "24663           0.00K        0.00K         EF0        0.67       50.0  \n",
      "40682             NaN          NaN         EF2       23.54      600.0  \n",
      "59276         200.00K        0.00K         EF1       11.72     1200.0  \n"
     ]
    }
   ],
   "source": [
    "import pandas as pd\n",
    "import numpy as np\n",
    "import glob\n",
    "from sklearn import cross_validation\n",
    "from sklearn import preprocessing\n",
    "\n",
    "# these are the fields in the files that we are intersted in\n",
    "fields = ['YEAR', 'EVENT_TYPE', 'INJURIES_DIRECT', 'INJURIES_INDIRECT', 'DEATHS_DIRECT', 'DEATHS_INDIRECT', \n",
    "          'DAMAGE_PROPERTY', 'DAMAGE_CROPS', 'TOR_F_SCALE', 'TOR_LENGTH', 'TOR_WIDTH']\n",
    "\n",
    "# Loop through all the files and create a dataframe object\n",
    "path ='/Users/scottburgholzer/Desktop/Project'\n",
    "allFiles = glob.glob(path + \"/*.csv\")\n",
    "frame = pd.DataFrame()\n",
    "list_ = []\n",
    "\n",
    "for file_ in allFiles:\n",
    "    df = pd.read_csv(file_,index_col=None, header=0, usecols=fields)\n",
    "    list_.append(df)\n",
    "frame = pd.concat(list_)\n",
    "\n",
    "# sort by year for confirmation\n",
    "frame = frame.sort_values('YEAR')\n",
    "\n",
    "# keep only the tornado data\n",
    "frame = frame[frame.EVENT_TYPE == 'Tornado']\n",
    "\n",
    "# we no longer need the year or event type\n",
    "frame = frame.drop(['YEAR', 'EVENT_TYPE'], axis=1)\n",
    "\n",
    "# remove EFU (unknown), F0, F1, F2 as we only want EF\n",
    "frame = frame[frame.TOR_F_SCALE != \"EFU\"]\n",
    "frame = frame[frame.TOR_F_SCALE != \"F0\"]\n",
    "frame = frame[frame.TOR_F_SCALE != \"F1\"]\n",
    "frame = frame[frame.TOR_F_SCALE != \"F2\"]\n",
    "\n",
    "frame2 = frame\n",
    "\n",
    "# randomize the dataframe\n",
    "np.random.seed(47)\n",
    "frame = frame.reindex(np.random.permutation(frame.index))\n",
    "\n",
    "print frame.head()\n",
    "print frame.tail()"
   ]
  },
  {
   "cell_type": "code",
   "execution_count": 2,
   "metadata": {
    "scrolled": false
   },
   "outputs": [
    {
     "name": "stdout",
     "output_type": "stream",
     "text": [
      "       INJURIES_DIRECT  INJURIES_INDIRECT  DEATHS_DIRECT  DEATHS_INDIRECT  \\\n",
      "52239                0                  0              0                0   \n",
      "37149                0                  0              0                0   \n",
      "8412                 0                  0              0                0   \n",
      "59566                0                  0              0                0   \n",
      "70432                0                  0              0                0   \n",
      "\n",
      "       DAMAGE_PROPERTY  DAMAGE_CROPS TOR_F_SCALE  TOR_LENGTH  TOR_WIDTH  \n",
      "52239              0.0           0.0         EF0        2.50       50.0  \n",
      "37149          30000.0           0.0         EF0        1.19      100.0  \n",
      "8412               0.0           0.0         EF2        9.00      250.0  \n",
      "59566              0.0           0.0         EF0        4.88       80.0  \n",
      "70432          10000.0           0.0         EF0        0.10      100.0  \n",
      "       INJURIES_DIRECT  INJURIES_INDIRECT  DEATHS_DIRECT  DEATHS_INDIRECT  \\\n",
      "28595                0                  0              0                0   \n",
      "7996                 0                  0              0                0   \n",
      "24663                0                  0              0                0   \n",
      "40682                0                  0              0                0   \n",
      "59276                0                  0              0                0   \n",
      "\n",
      "       DAMAGE_PROPERTY  DAMAGE_CROPS TOR_F_SCALE  TOR_LENGTH  TOR_WIDTH  \n",
      "28595              0.0           0.0         EF1        4.80      150.0  \n",
      "7996               0.0           0.0         EF0       10.39      550.0  \n",
      "24663              0.0           0.0         EF0        0.67       50.0  \n",
      "40682              0.0           0.0         EF2       23.54      600.0  \n",
      "59276         200000.0           0.0         EF1       11.72     1200.0  \n"
     ]
    }
   ],
   "source": [
    "# Make all NaN values in DAMAGE_PROPERTY and DAMAGE_CROPS columns set to 0.0K\n",
    "frame.DAMAGE_PROPERTY = frame.DAMAGE_PROPERTY.fillna('0.0K')\n",
    "frame.DAMAGE_CROPS = frame.DAMAGE_CROPS.fillna('0.0K')\n",
    "\n",
    "# this function takes values such as 10.00K and makes it 10000.0\n",
    "def value_to_float(x):\n",
    "    if type(x) == float or type(x) == int:\n",
    "        return x\n",
    "    if 'K' in x:\n",
    "        if len(x) > 1:\n",
    "            return float(x.replace('K', '')) * 1000\n",
    "        return 1000.0\n",
    "    if 'M' in x:\n",
    "        if len(x) > 1:\n",
    "            return float(x.replace('M', '')) * 1000000\n",
    "        return 1000000.0\n",
    "    if 'B' in x:\n",
    "        return float(x.replace('B', '')) * 1000000000\n",
    "    return 0.0\n",
    "\n",
    "# convert all money values to float\n",
    "frame.DAMAGE_PROPERTY = frame.DAMAGE_PROPERTY.apply(value_to_float)\n",
    "frame.DAMAGE_CROPS = frame.DAMAGE_CROPS.apply(value_to_float)\n",
    "\n",
    "# Just to be safe, make sure any additional NaN are set to 0\n",
    "frame = frame.fillna(0)\n",
    "\n",
    "print frame.head()\n",
    "print frame.tail()\n"
   ]
  },
  {
   "cell_type": "code",
   "execution_count": 3,
   "metadata": {},
   "outputs": [
    {
     "name": "stdout",
     "output_type": "stream",
     "text": [
      "(15685, 6)\n",
      "(15685, 8)\n",
      "       INJURIES_DIRECT  INJURIES_INDIRECT  DEATHS_DIRECT  DEATHS_INDIRECT  \\\n",
      "52239                0                  0              0                0   \n",
      "37149                0                  0              0                0   \n",
      "8412                 0                  0              0                0   \n",
      "59566                0                  0              0                0   \n",
      "70432                0                  0              0                0   \n",
      "\n",
      "       DAMAGE_PROPERTY  DAMAGE_CROPS  TOR_LENGTH  TOR_WIDTH  \n",
      "52239              0.0           0.0        2.50       50.0  \n",
      "37149          30000.0           0.0        1.19      100.0  \n",
      "8412               0.0           0.0        9.00      250.0  \n",
      "59566              0.0           0.0        4.88       80.0  \n",
      "70432          10000.0           0.0        0.10      100.0  \n",
      "       INJURIES_DIRECT  INJURIES_INDIRECT  DEATHS_DIRECT  DEATHS_INDIRECT  \\\n",
      "28595                0                  0              0                0   \n",
      "7996                 0                  0              0                0   \n",
      "24663                0                  0              0                0   \n",
      "40682                0                  0              0                0   \n",
      "59276                0                  0              0                0   \n",
      "\n",
      "       DAMAGE_PROPERTY  DAMAGE_CROPS  TOR_LENGTH  TOR_WIDTH  \n",
      "28595              0.0           0.0        4.80      150.0  \n",
      "7996               0.0           0.0       10.39      550.0  \n",
      "24663              0.0           0.0        0.67       50.0  \n",
      "40682              0.0           0.0       23.54      600.0  \n",
      "59276         200000.0           0.0       11.72     1200.0  \n",
      "[[1 0 0 0 0 0]\n",
      " [1 0 0 0 0 0]\n",
      " [0 0 1 0 0 0]\n",
      " ...\n",
      " [1 0 0 0 0 0]\n",
      " [0 0 1 0 0 0]\n",
      " [0 1 0 0 0 0]]\n"
     ]
    }
   ],
   "source": [
    "#One hot encoding\n",
    "y_orig = frame['TOR_F_SCALE']\n",
    "y = pd.get_dummies(frame['TOR_F_SCALE']).as_matrix()\n",
    "frame = frame.drop('TOR_F_SCALE', axis=1)\n",
    "\n",
    "print y.shape\n",
    "print frame.shape\n",
    "\n",
    "print frame.head()\n",
    "print frame.tail()\n",
    "print y\n"
   ]
  },
  {
   "cell_type": "code",
   "execution_count": 4,
   "metadata": {},
   "outputs": [
    {
     "name": "stdout",
     "output_type": "stream",
     "text": [
      "(12548, 8)\n",
      "(12548, 6)\n"
     ]
    }
   ],
   "source": [
    "X_train, X_test, y_train, y_test = cross_validation.train_test_split(\n",
    "    frame, y, test_size=0.2, random_state=50)\n",
    "print X_train.shape\n",
    "print y_train.shape"
   ]
  },
  {
   "cell_type": "code",
   "execution_count": 5,
   "metadata": {},
   "outputs": [
    {
     "name": "stdout",
     "output_type": "stream",
     "text": [
      "       INJURIES_DIRECT  INJURIES_INDIRECT  DEATHS_DIRECT  DEATHS_INDIRECT  \\\n",
      "1592                 0                  0              0                0   \n",
      "42078                0                  0              0                0   \n",
      "7770                 0                  0              0                0   \n",
      "29772                0                  0              0                0   \n",
      "34924                0                  0              0                0   \n",
      "\n",
      "       DAMAGE_PROPERTY  DAMAGE_CROPS  TOR_LENGTH  TOR_WIDTH  \n",
      "1592           50000.0           0.0        0.47       75.0  \n",
      "42078           4000.0           0.0        0.15      300.0  \n",
      "7770          200000.0      500000.0       11.92      100.0  \n",
      "29772              0.0           0.0        0.75       75.0  \n",
      "34924          30000.0           0.0        3.16      150.0  \n",
      "       INJURIES_DIRECT  INJURIES_INDIRECT  DEATHS_DIRECT  DEATHS_INDIRECT  \\\n",
      "2014                 0                  0              0                0   \n",
      "15394                0                  0              0                0   \n",
      "30951                0                  0              0                0   \n",
      "29012                0                  0              0                0   \n",
      "53945                0                  0              0                0   \n",
      "\n",
      "       DAMAGE_PROPERTY  DAMAGE_CROPS  TOR_LENGTH  TOR_WIDTH  \n",
      "2014               0.0           0.0        0.85       50.0  \n",
      "15394              0.0           0.0        0.02       25.0  \n",
      "30951         100000.0           0.0        0.81       50.0  \n",
      "29012              0.0           0.0        0.20       40.0  \n",
      "53945          40000.0           0.0        0.72       80.0  \n",
      "[[1 0 0 0 0 0]\n",
      " [0 1 0 0 0 0]\n",
      " [1 0 0 0 0 0]\n",
      " ...\n",
      " [0 1 0 0 0 0]\n",
      " [1 0 0 0 0 0]\n",
      " [1 0 0 0 0 0]]\n"
     ]
    }
   ],
   "source": [
    "print X_train.head()\n",
    "print X_train.tail()\n",
    "print y_train"
   ]
  },
  {
   "cell_type": "code",
   "execution_count": 6,
   "metadata": {
    "collapsed": true
   },
   "outputs": [],
   "source": [
    "stdscaler = preprocessing.StandardScaler()\n",
    "X_scaled  = stdscaler.fit_transform(frame)\n",
    "X_train_scaled = stdscaler.transform(X_train)\n",
    "X_test_scaled  = stdscaler.transform(X_test)"
   ]
  },
  {
   "cell_type": "markdown",
   "metadata": {
    "collapsed": true
   },
   "source": [
    "# Week 7 Update"
   ]
  },
  {
   "cell_type": "markdown",
   "metadata": {},
   "source": [
    "# Naive Bayes classifier"
   ]
  },
  {
   "cell_type": "code",
   "execution_count": 7,
   "metadata": {},
   "outputs": [
    {
     "name": "stdout",
     "output_type": "stream",
     "text": [
      "Naive Bayes Classifier Results\n",
      "Confusion Matrix:\n",
      "[[1629   29    3    0    0    0]\n",
      " [ 876  146   18    4    1    3]\n",
      " [ 137  112   55    5    0    3]\n",
      " [   9   22   34    3    0   17]\n",
      " [   0    6    8    1    1   13]\n",
      " [   0    0    0    0    0    2]]\n",
      "\n",
      " Classifcation Report\n",
      "             precision    recall  f1-score   support\n",
      "\n",
      "          0       0.61      0.98      0.76      1661\n",
      "          1       0.46      0.14      0.21      1048\n",
      "          2       0.47      0.18      0.26       312\n",
      "          3       0.23      0.04      0.06        85\n",
      "          4       0.50      0.03      0.06        29\n",
      "          5       0.05      1.00      0.10         2\n",
      "\n",
      "avg / total       0.54      0.59      0.50      3137\n",
      "\n"
     ]
    }
   ],
   "source": [
    "from sklearn.naive_bayes import GaussianNB \n",
    "from sklearn.metrics import classification_report, confusion_matrix\n",
    "gnb = GaussianNB().fit(X_train_scaled, y_train.argmax(axis=1)) \n",
    "gnb_predictions = gnb.predict(X_test_scaled) \n",
    "\n",
    "print \"Naive Bayes Classifier Results\\nConfusion Matrix:\"\n",
    "print confusion_matrix(y_test.argmax(axis=1), gnb_predictions) \n",
    "print \"\\n Classifcation Report\"\n",
    "print classification_report(y_test.argmax(axis=1),gnb_predictions)"
   ]
  },
  {
   "cell_type": "markdown",
   "metadata": {},
   "source": [
    "# Logistic Regression"
   ]
  },
  {
   "cell_type": "code",
   "execution_count": 8,
   "metadata": {
    "collapsed": true
   },
   "outputs": [],
   "source": [
    "from sklearn import linear_model\n",
    "from sklearn import metrics\n",
    "from mlclass2 import simplemetrics, plot_decision_2d_lda\n",
    "from sklearn.decomposition import PCA\n",
    "\n",
    "lr = linear_model.LogisticRegression()\n",
    "lr.fit(X_train_scaled, y_train.argmax(axis=1))\n",
    "predicted = lr.predict(X_test_scaled)"
   ]
  },
  {
   "cell_type": "code",
   "execution_count": 9,
   "metadata": {},
   "outputs": [
    {
     "name": "stdout",
     "output_type": "stream",
     "text": [
      "Logistic Regression Results\n",
      "Confusion Matrix:\n",
      "[[1563   98    0    0    0    0]\n",
      " [ 634  410    4    0    0    0]\n",
      " [  59  236   15    2    0    0]\n",
      " [   2   46   32    4    1    0]\n",
      " [   0    9   10    9    1    0]\n",
      " [   0    0    0    1    0    1]]\n",
      "\n",
      " Classifcation Report\n",
      "             precision    recall  f1-score   support\n",
      "\n",
      "          0       0.69      0.94      0.80      1661\n",
      "          1       0.51      0.39      0.44      1048\n",
      "          2       0.25      0.05      0.08       312\n",
      "          3       0.25      0.05      0.08        85\n",
      "          4       0.50      0.03      0.06        29\n",
      "          5       1.00      0.50      0.67         2\n",
      "\n",
      "avg / total       0.57      0.64      0.58      3137\n",
      "\n"
     ]
    }
   ],
   "source": [
    "print \"Logistic Regression Results\\nConfusion Matrix:\"\n",
    "print confusion_matrix(y_test.argmax(axis=1), predicted)\n",
    "\n",
    "print \"\\n Classifcation Report\"\n",
    "print classification_report(y_test.argmax(axis=1),predicted)"
   ]
  },
  {
   "cell_type": "markdown",
   "metadata": {},
   "source": [
    "# SVM"
   ]
  },
  {
   "cell_type": "code",
   "execution_count": 10,
   "metadata": {
    "collapsed": true
   },
   "outputs": [],
   "source": [
    "from sklearn.svm import SVC \n",
    "svm_model = SVC(kernel = 'rbf', gamma = 1, C = 1).fit(X_train_scaled, y_train.argmax(axis=1)) \n",
    "svm_predictions = svm_model.predict(X_test_scaled) "
   ]
  },
  {
   "cell_type": "code",
   "execution_count": 11,
   "metadata": {},
   "outputs": [
    {
     "name": "stdout",
     "output_type": "stream",
     "text": [
      "SVM Results\n",
      "Confusion Matrix:\n",
      "[[1451  209    1    0    0    0]\n",
      " [ 440  576   29    3    0    0]\n",
      " [  30  211   65    6    0    0]\n",
      " [   1   33   27   24    0    0]\n",
      " [   0    4    7   17    1    0]\n",
      " [   0    0    0    2    0    0]]\n",
      "\n",
      " Classifcation Report\n",
      "             precision    recall  f1-score   support\n",
      "\n",
      "          0       0.75      0.87      0.81      1661\n",
      "          1       0.56      0.55      0.55      1048\n",
      "          2       0.50      0.21      0.29       312\n",
      "          3       0.46      0.28      0.35        85\n",
      "          4       1.00      0.03      0.07        29\n",
      "          5       0.00      0.00      0.00         2\n",
      "\n",
      "avg / total       0.66      0.67      0.65      3137\n",
      "\n"
     ]
    },
    {
     "name": "stderr",
     "output_type": "stream",
     "text": [
      "/Users/scottburgholzer/anaconda/anaconda2/lib/python2.7/site-packages/sklearn/metrics/classification.py:1135: UndefinedMetricWarning: Precision and F-score are ill-defined and being set to 0.0 in labels with no predicted samples.\n",
      "  'precision', 'predicted', average, warn_for)\n"
     ]
    }
   ],
   "source": [
    "from sklearn.metrics import hinge_loss\n",
    "# model accuracy for X_test   \n",
    "#accuracy = svm_model_linear.score(X_test, y_test) \n",
    "  \n",
    "print \"SVM Results\\nConfusion Matrix:\" \n",
    "print confusion_matrix(y_test.argmax(axis=1), svm_predictions) \n",
    "print \"\\n Classifcation Report\"\n",
    "print classification_report(y_test.argmax(axis=1),svm_predictions)"
   ]
  },
  {
   "cell_type": "markdown",
   "metadata": {},
   "source": [
    "# Decision Tree"
   ]
  },
  {
   "cell_type": "code",
   "execution_count": 12,
   "metadata": {},
   "outputs": [
    {
     "name": "stdout",
     "output_type": "stream",
     "text": [
      "Decision Tree Results\n",
      "Confusion Matrix:\n",
      "[[1540  121    0    0    0    0]\n",
      " [ 494  547    7    0    0    0]\n",
      " [ 119  177   16    0    0    0]\n",
      " [  44   26    6    9    0    0]\n",
      " [  16    5    1    7    0    0]\n",
      " [   0    0    0    2    0    0]]\n",
      "\n",
      " Classifcation Report\n",
      "             precision    recall  f1-score   support\n",
      "\n",
      "          0       0.83      0.77      0.80      1661\n",
      "          1       0.62      0.52      0.57      1048\n",
      "          2       0.53      0.05      0.09       312\n",
      "          3       0.50      0.11      0.17        85\n",
      "          4       0.00      0.00      0.00        29\n",
      "          5       0.00      0.00      0.00         2\n",
      "\n",
      "avg / total       0.71      0.59      0.63      3137\n",
      "\n"
     ]
    }
   ],
   "source": [
    "from sklearn import tree \n",
    "dtc = tree.DecisionTreeClassifier(criterion='entropy', max_depth=4)\n",
    "dtc.fit(X_train_scaled, y_train)\n",
    "predicted = dtc.predict(X_test_scaled)\n",
    "\n",
    "\n",
    "print \"Decision Tree Results\\nConfusion Matrix:\"\n",
    "print confusion_matrix(y_test.argmax(axis=1), predicted.argmax(axis=1))\n",
    "\n",
    "print \"\\n Classifcation Report\"\n",
    "print classification_report(y_test,predicted)"
   ]
  },
  {
   "cell_type": "markdown",
   "metadata": {},
   "source": [
    "# Removing EF4 and EF5 from the data"
   ]
  },
  {
   "cell_type": "code",
   "execution_count": 13,
   "metadata": {},
   "outputs": [
    {
     "name": "stdout",
     "output_type": "stream",
     "text": [
      "       INJURIES_DIRECT  INJURIES_INDIRECT  DEATHS_DIRECT  DEATHS_INDIRECT  \\\n",
      "52239                0                  0              0                0   \n",
      "37149                0                  0              0                0   \n",
      "8412                 0                  0              0                0   \n",
      "59566                0                  0              0                0   \n",
      "70432                0                  0              0                0   \n",
      "28067                0                  0              0                0   \n",
      "35483                0                  0              0                0   \n",
      "68088                0                  0              0                0   \n",
      "59942                0                  0              0                0   \n",
      "31952                0                  0              0                0   \n",
      "29813                0                  0              0                0   \n",
      "58                   0                  0              0                0   \n",
      "36546                0                  0              0                0   \n",
      "21468                0                  0              0                0   \n",
      "50152                0                  0              0                0   \n",
      "63096                1                  0              0                0   \n",
      "29781                0                  0              0                0   \n",
      "61567                0                  0              0                0   \n",
      "48017                0                  0              0                0   \n",
      "37553                0                  0              0                0   \n",
      "40930                0                  0              0                0   \n",
      "35887                0                  0              0                0   \n",
      "16449                0                  0              0                0   \n",
      "56408                0                  0              0                0   \n",
      "12815                0                  0              0                0   \n",
      "73812                0                  0              0                0   \n",
      "47632                0                  0              0                0   \n",
      "34763                0                  0              0                0   \n",
      "20494                0                  0              0                0   \n",
      "31859                0                  0              0                0   \n",
      "...                ...                ...            ...              ...   \n",
      "397                  0                  0              0                0   \n",
      "46412                0                  0              0                0   \n",
      "24352                0                  0              0                0   \n",
      "29900                0                  0              0                0   \n",
      "24406                0                  0              0                0   \n",
      "19874                4                  0              0                0   \n",
      "48755                0                  0              0                0   \n",
      "61239                0                  0              0                0   \n",
      "60289                0                  0              0                0   \n",
      "49742                0                  0              0                0   \n",
      "75332                0                  0              0                0   \n",
      "9373                 0                  0              0                0   \n",
      "28170                0                  0              0                0   \n",
      "15754                0                  0              0                0   \n",
      "37498                0                  0              0                0   \n",
      "12596                0                  0              0                0   \n",
      "43699                0                  0              0                0   \n",
      "5310                 0                  0              0                0   \n",
      "40602                0                  0              0                0   \n",
      "20923                0                  0              0                0   \n",
      "30181                0                  0              0                0   \n",
      "60077                0                  0              0                0   \n",
      "22712                0                  0              0                0   \n",
      "35017                0                  0              0                0   \n",
      "17273                0                  0              0                0   \n",
      "28595                0                  0              0                0   \n",
      "7996                 0                  0              0                0   \n",
      "24663                0                  0              0                0   \n",
      "40682                0                  0              0                0   \n",
      "59276                0                  0              0                0   \n",
      "\n",
      "      DAMAGE_PROPERTY DAMAGE_CROPS TOR_F_SCALE  TOR_LENGTH  TOR_WIDTH  \n",
      "52239           0.00K        0.00K         EF0        2.50       50.0  \n",
      "37149          30.00K        0.00K         EF0        1.19      100.0  \n",
      "8412            0.00K        0.00K         EF2        9.00      250.0  \n",
      "59566           0.00K        0.00K         EF0        4.88       80.0  \n",
      "70432          10.00K        0.00K         EF0        0.10      100.0  \n",
      "28067           8.00K          NaN         EF0        8.00       50.0  \n",
      "35483          10.00K        0.00K         EF1        1.24       50.0  \n",
      "68088         100.00K        0.00K         EF0        1.80      150.0  \n",
      "59942          35.00K        0.00K         EF1        0.20       30.0  \n",
      "31952           1.00K        0.00K         EF0        0.10       10.0  \n",
      "29813          72.00K        0.00K         EF2       12.38      440.0  \n",
      "58            500.00K        0.00K         EF0        0.40       50.0  \n",
      "36546          20.00K        0.00K         EF0        0.32       50.0  \n",
      "21468           0.00K        0.00K         EF1        8.15      200.0  \n",
      "50152         700.00K        0.00K         EF0        1.18       50.0  \n",
      "63096         500.00K        0.00K         EF1        2.00       30.0  \n",
      "29781          20.00K        0.00K         EF1        5.09       50.0  \n",
      "61567          30.00K        0.00K         EF1        1.14       50.0  \n",
      "48017           0.00K        0.00K         EF0        3.00       30.0  \n",
      "37553           5.00K          NaN         EF1        5.34       75.0  \n",
      "40930           0.00K        0.00K         EF0        0.50       30.0  \n",
      "35887           0.00K        0.00K         EF0        0.50       40.0  \n",
      "16449           0.00K        0.00K         EF0        0.20       50.0  \n",
      "56408          10.00K        0.00K         EF0        7.47      250.0  \n",
      "12815           1.50K        0.00K         EF0        0.30       25.0  \n",
      "73812           5.00K        0.00K         EF0        3.82       25.0  \n",
      "47632          50.00K        0.00K         EF0        2.70       25.0  \n",
      "34763           5.00K        0.00K         EF1        4.96      400.0  \n",
      "20494         100.00K        0.00K         EF1        4.75      400.0  \n",
      "31859           0.00K        0.00K         EF0        2.00      150.0  \n",
      "...               ...          ...         ...         ...        ...  \n",
      "397           250.00K        0.00K         EF1        1.64       50.0  \n",
      "46412           0.00K        0.00K         EF0        1.97      150.0  \n",
      "24352           0.00K        0.00K         EF0        0.83       75.0  \n",
      "29900          15.00K        0.00K         EF1        1.08      350.0  \n",
      "24406         130.00K        0.00K         EF2        1.30      100.0  \n",
      "19874         200.00K        0.00K         EF1        4.05      650.0  \n",
      "48755          15.00K        0.00K         EF0        0.75       25.0  \n",
      "61239             NaN          NaN         EF0        0.50       25.0  \n",
      "60289             NaN          NaN         EF0        0.35       50.0  \n",
      "49742           0.00K        0.00K         EF0        1.54      200.0  \n",
      "75332           0.00K        0.00K         EF2        3.76      690.0  \n",
      "9373            0.00K        0.00K         EF0        1.98       75.0  \n",
      "28170             NaN          NaN         EF1        0.53      200.0  \n",
      "15754          10.00K        0.00K         EF0        0.17      100.0  \n",
      "37498           0.00K        0.00K         EF1        1.01      500.0  \n",
      "12596           0.00K        0.00K         EF2        6.53     1975.0  \n",
      "43699           0.00K        0.00K         EF0        1.36      455.0  \n",
      "5310              NaN          NaN         EF0        3.90      120.0  \n",
      "40602             NaN          NaN         EF1        1.21      100.0  \n",
      "20923          50.00K        0.00K         EF1        1.17      100.0  \n",
      "30181          50.00K        0.00K         EF1        3.85       75.0  \n",
      "60077          25.00K        0.00K         EF0        7.38       75.0  \n",
      "22712         300.00K        0.00K         EF1        4.44      900.0  \n",
      "35017         550.00K        0.00K         EF1        1.41      100.0  \n",
      "17273          50.00K        0.00K         EF0        1.68      100.0  \n",
      "28595             NaN          NaN         EF1        4.80      150.0  \n",
      "7996              NaN          NaN         EF0       10.39      550.0  \n",
      "24663           0.00K        0.00K         EF0        0.67       50.0  \n",
      "40682             NaN          NaN         EF2       23.54      600.0  \n",
      "59276         200.00K        0.00K         EF1       11.72     1200.0  \n",
      "\n",
      "[15568 rows x 9 columns]\n"
     ]
    }
   ],
   "source": [
    "frame2 = frame2[frame2.TOR_F_SCALE != \"EF4\"]\n",
    "frame2 = frame2[frame2.TOR_F_SCALE != \"EF5\"]\n",
    "print frame2"
   ]
  },
  {
   "cell_type": "code",
   "execution_count": 14,
   "metadata": {},
   "outputs": [
    {
     "name": "stdout",
     "output_type": "stream",
     "text": [
      "       INJURIES_DIRECT  INJURIES_INDIRECT  DEATHS_DIRECT  DEATHS_INDIRECT  \\\n",
      "44756                0                  0              0                0   \n",
      "32900                0                  0              0                0   \n",
      "25651                0                  0              0                0   \n",
      "42544                0                  0              0                0   \n",
      "35546                0                  0              0                0   \n",
      "\n",
      "      DAMAGE_PROPERTY DAMAGE_CROPS TOR_F_SCALE  TOR_LENGTH  TOR_WIDTH  \n",
      "44756           0.00K        0.00K         EF0        2.50       50.0  \n",
      "32900          30.00K        0.00K         EF0        1.19      100.0  \n",
      "25651           0.00K        0.00K         EF2        9.00      250.0  \n",
      "42544           0.00K        0.00K         EF0        4.88       80.0  \n",
      "35546          10.00K        0.00K         EF0        0.10      100.0  \n",
      "       INJURIES_DIRECT  INJURIES_INDIRECT  DEATHS_DIRECT  DEATHS_INDIRECT  \\\n",
      "3597                 0                  0              0                0   \n",
      "38811                0                  0              0                0   \n",
      "21869                0                  0              0                0   \n",
      "42515                0                  0              0                0   \n",
      "48201                0                  0              0                0   \n",
      "\n",
      "      DAMAGE_PROPERTY DAMAGE_CROPS TOR_F_SCALE  TOR_LENGTH  TOR_WIDTH  \n",
      "3597              NaN          NaN         EF1        4.80      150.0  \n",
      "38811             NaN          NaN         EF0       10.39      550.0  \n",
      "21869           0.00K        0.00K         EF0        0.67       50.0  \n",
      "42515             NaN          NaN         EF2       23.54      600.0  \n",
      "48201         200.00K        0.00K         EF1       11.72     1200.0  \n"
     ]
    }
   ],
   "source": [
    "# randomize the dataframe\n",
    "np.random.seed(47)\n",
    "frame2 = frame2.reindex(np.random.permutation(frame2.index))\n",
    "\n",
    "print frame2.head()\n",
    "print frame2.tail()"
   ]
  },
  {
   "cell_type": "code",
   "execution_count": 15,
   "metadata": {},
   "outputs": [
    {
     "name": "stdout",
     "output_type": "stream",
     "text": [
      "       INJURIES_DIRECT  INJURIES_INDIRECT  DEATHS_DIRECT  DEATHS_INDIRECT  \\\n",
      "44756                0                  0              0                0   \n",
      "32900                0                  0              0                0   \n",
      "25651                0                  0              0                0   \n",
      "42544                0                  0              0                0   \n",
      "35546                0                  0              0                0   \n",
      "\n",
      "       DAMAGE_PROPERTY  DAMAGE_CROPS TOR_F_SCALE  TOR_LENGTH  TOR_WIDTH  \n",
      "44756              0.0           0.0         EF0        2.50       50.0  \n",
      "32900          30000.0           0.0         EF0        1.19      100.0  \n",
      "25651              0.0           0.0         EF2        9.00      250.0  \n",
      "42544              0.0           0.0         EF0        4.88       80.0  \n",
      "35546          10000.0           0.0         EF0        0.10      100.0  \n",
      "       INJURIES_DIRECT  INJURIES_INDIRECT  DEATHS_DIRECT  DEATHS_INDIRECT  \\\n",
      "3597                 0                  0              0                0   \n",
      "38811                0                  0              0                0   \n",
      "21869                0                  0              0                0   \n",
      "42515                0                  0              0                0   \n",
      "48201                0                  0              0                0   \n",
      "\n",
      "       DAMAGE_PROPERTY  DAMAGE_CROPS TOR_F_SCALE  TOR_LENGTH  TOR_WIDTH  \n",
      "3597               0.0           0.0         EF1        4.80      150.0  \n",
      "38811              0.0           0.0         EF0       10.39      550.0  \n",
      "21869              0.0           0.0         EF0        0.67       50.0  \n",
      "42515              0.0           0.0         EF2       23.54      600.0  \n",
      "48201         200000.0           0.0         EF1       11.72     1200.0  \n"
     ]
    }
   ],
   "source": [
    "# Make all NaN values in DAMAGE_PROPERTY and DAMAGE_CROPS columns set to 0.0K\n",
    "frame2.DAMAGE_PROPERTY = frame2.DAMAGE_PROPERTY.fillna('0.0K')\n",
    "frame2.DAMAGE_CROPS = frame2.DAMAGE_CROPS.fillna('0.0K')\n",
    "\n",
    "# this function takes values such as 10.00K and makes it 10000.0\n",
    "def value_to_float(x):\n",
    "    if type(x) == float or type(x) == int:\n",
    "        return x\n",
    "    if 'K' in x:\n",
    "        if len(x) > 1:\n",
    "            return float(x.replace('K', '')) * 1000\n",
    "        return 1000.0\n",
    "    if 'M' in x:\n",
    "        if len(x) > 1:\n",
    "            return float(x.replace('M', '')) * 1000000\n",
    "        return 1000000.0\n",
    "    if 'B' in x:\n",
    "        return float(x.replace('B', '')) * 1000000000\n",
    "    return 0.0\n",
    "\n",
    "# convert all money values to float\n",
    "frame2.DAMAGE_PROPERTY = frame2.DAMAGE_PROPERTY.apply(value_to_float)\n",
    "frame2.DAMAGE_CROPS = frame2.DAMAGE_CROPS.apply(value_to_float)\n",
    "\n",
    "# Just to be safe, make sure any additional NaN are set to 0\n",
    "frame2 = frame2.fillna(0)\n",
    "\n",
    "print frame2.head()\n",
    "print frame2.tail()"
   ]
  },
  {
   "cell_type": "code",
   "execution_count": 16,
   "metadata": {},
   "outputs": [
    {
     "name": "stdout",
     "output_type": "stream",
     "text": [
      "(15568, 4)\n",
      "(15568, 8)\n",
      "       INJURIES_DIRECT  INJURIES_INDIRECT  DEATHS_DIRECT  DEATHS_INDIRECT  \\\n",
      "44756                0                  0              0                0   \n",
      "32900                0                  0              0                0   \n",
      "25651                0                  0              0                0   \n",
      "42544                0                  0              0                0   \n",
      "35546                0                  0              0                0   \n",
      "\n",
      "       DAMAGE_PROPERTY  DAMAGE_CROPS  TOR_LENGTH  TOR_WIDTH  \n",
      "44756              0.0           0.0        2.50       50.0  \n",
      "32900          30000.0           0.0        1.19      100.0  \n",
      "25651              0.0           0.0        9.00      250.0  \n",
      "42544              0.0           0.0        4.88       80.0  \n",
      "35546          10000.0           0.0        0.10      100.0  \n",
      "       INJURIES_DIRECT  INJURIES_INDIRECT  DEATHS_DIRECT  DEATHS_INDIRECT  \\\n",
      "3597                 0                  0              0                0   \n",
      "38811                0                  0              0                0   \n",
      "21869                0                  0              0                0   \n",
      "42515                0                  0              0                0   \n",
      "48201                0                  0              0                0   \n",
      "\n",
      "       DAMAGE_PROPERTY  DAMAGE_CROPS  TOR_LENGTH  TOR_WIDTH  \n",
      "3597               0.0           0.0        4.80      150.0  \n",
      "38811              0.0           0.0       10.39      550.0  \n",
      "21869              0.0           0.0        0.67       50.0  \n",
      "42515              0.0           0.0       23.54      600.0  \n",
      "48201         200000.0           0.0       11.72     1200.0  \n",
      "[[1 0 0 0]\n",
      " [1 0 0 0]\n",
      " [0 0 1 0]\n",
      " ...\n",
      " [1 0 0 0]\n",
      " [0 0 1 0]\n",
      " [0 1 0 0]]\n"
     ]
    }
   ],
   "source": [
    "#One hot encoding\n",
    "y_orig = frame2['TOR_F_SCALE']\n",
    "y = pd.get_dummies(frame2['TOR_F_SCALE']).as_matrix()\n",
    "frame2 = frame2.drop('TOR_F_SCALE', axis=1)\n",
    "\n",
    "print y.shape\n",
    "print frame2.shape\n",
    "\n",
    "print frame2.head()\n",
    "print frame2.tail()\n",
    "print y"
   ]
  },
  {
   "cell_type": "code",
   "execution_count": 17,
   "metadata": {},
   "outputs": [
    {
     "name": "stdout",
     "output_type": "stream",
     "text": [
      "(12454, 8)\n",
      "(12454, 4)\n"
     ]
    }
   ],
   "source": [
    "X_train, X_test, y_train, y_test = cross_validation.train_test_split(\n",
    "    frame2, y, test_size=0.2, random_state=50)\n",
    "print X_train.shape\n",
    "print y_train.shape"
   ]
  },
  {
   "cell_type": "code",
   "execution_count": 18,
   "metadata": {
    "collapsed": true
   },
   "outputs": [],
   "source": [
    "stdscaler = preprocessing.StandardScaler()\n",
    "X_scaled  = stdscaler.fit_transform(frame2)\n",
    "X_train_scaled = stdscaler.transform(X_train)\n",
    "X_test_scaled  = stdscaler.transform(X_test)"
   ]
  },
  {
   "cell_type": "markdown",
   "metadata": {},
   "source": [
    "# Naive Bayes classifier"
   ]
  },
  {
   "cell_type": "code",
   "execution_count": 19,
   "metadata": {},
   "outputs": [
    {
     "name": "stdout",
     "output_type": "stream",
     "text": [
      "Naive Bayes Classifier Results\n",
      "Confusion Matrix:\n",
      "[[1646   15    4    3]\n",
      " [ 923   98   29   11]\n",
      " [ 133   86   61   11]\n",
      " [  16   29   29   20]]\n",
      "\n",
      " Classifcation Report\n",
      "             precision    recall  f1-score   support\n",
      "\n",
      "          0       0.61      0.99      0.75      1668\n",
      "          1       0.43      0.09      0.15      1061\n",
      "          2       0.50      0.21      0.29       291\n",
      "          3       0.44      0.21      0.29        94\n",
      "\n",
      "avg / total       0.53      0.59      0.49      3114\n",
      "\n"
     ]
    }
   ],
   "source": [
    "from sklearn.naive_bayes import GaussianNB \n",
    "from sklearn.metrics import classification_report, confusion_matrix\n",
    "gnb = GaussianNB().fit(X_train_scaled, y_train.argmax(axis=1)) \n",
    "gnb_predictions = gnb.predict(X_test_scaled) \n",
    "\n",
    "print \"Naive Bayes Classifier Results\\nConfusion Matrix:\"\n",
    "print confusion_matrix(y_test.argmax(axis=1), gnb_predictions) \n",
    "print \"\\n Classifcation Report\"\n",
    "print classification_report(y_test.argmax(axis=1),gnb_predictions)"
   ]
  },
  {
   "cell_type": "markdown",
   "metadata": {},
   "source": [
    "# Logistic Regression"
   ]
  },
  {
   "cell_type": "code",
   "execution_count": 20,
   "metadata": {
    "collapsed": true
   },
   "outputs": [],
   "source": [
    "from sklearn import linear_model\n",
    "from sklearn import metrics\n",
    "from mlclass2 import simplemetrics, plot_decision_2d_lda\n",
    "from sklearn.decomposition import PCA\n",
    "\n",
    "lr = linear_model.LogisticRegression()\n",
    "lr.fit(X_train_scaled, y_train.argmax(axis=1))\n",
    "predicted = lr.predict(X_test_scaled)"
   ]
  },
  {
   "cell_type": "code",
   "execution_count": 21,
   "metadata": {},
   "outputs": [
    {
     "name": "stdout",
     "output_type": "stream",
     "text": [
      "Logistic Regression Results\n",
      "Confusion Matrix:\n",
      "[[1565  103    0    0]\n",
      " [ 599  455    6    1]\n",
      " [  41  215   25   10]\n",
      " [   2   54   18   20]]\n",
      "\n",
      " Classifcation Report\n",
      "             precision    recall  f1-score   support\n",
      "\n",
      "          0       0.71      0.94      0.81      1668\n",
      "          1       0.55      0.43      0.48      1061\n",
      "          2       0.51      0.09      0.15       291\n",
      "          3       0.65      0.21      0.32        94\n",
      "\n",
      "avg / total       0.63      0.66      0.62      3114\n",
      "\n"
     ]
    }
   ],
   "source": [
    "print \"Logistic Regression Results\\nConfusion Matrix:\"\n",
    "print confusion_matrix(y_test.argmax(axis=1), predicted)\n",
    "\n",
    "print \"\\n Classifcation Report\"\n",
    "print classification_report(y_test.argmax(axis=1),predicted)"
   ]
  },
  {
   "cell_type": "markdown",
   "metadata": {},
   "source": [
    "# SVM"
   ]
  },
  {
   "cell_type": "code",
   "execution_count": 22,
   "metadata": {
    "collapsed": true
   },
   "outputs": [],
   "source": [
    "from sklearn.svm import SVC \n",
    "svm_model = SVC(kernel = 'rbf', gamma = 1, C = 1).fit(X_train_scaled, y_train.argmax(axis=1)) \n",
    "svm_predictions = svm_model.predict(X_test_scaled) "
   ]
  },
  {
   "cell_type": "code",
   "execution_count": 23,
   "metadata": {},
   "outputs": [
    {
     "name": "stdout",
     "output_type": "stream",
     "text": [
      "SVM Results\n",
      "Confusion Matrix:\n",
      "[[1461  202    5    0]\n",
      " [ 388  628   42    3]\n",
      " [  18  176   76   21]\n",
      " [   1   36   30   27]]\n",
      "\n",
      " Classifcation Report\n",
      "             precision    recall  f1-score   support\n",
      "\n",
      "          0       0.78      0.88      0.83      1668\n",
      "          1       0.60      0.59      0.60      1061\n",
      "          2       0.50      0.26      0.34       291\n",
      "          3       0.53      0.29      0.37        94\n",
      "\n",
      "avg / total       0.69      0.70      0.69      3114\n",
      "\n"
     ]
    }
   ],
   "source": [
    "from sklearn.metrics import hinge_loss\n",
    "# model accuracy for X_test   \n",
    "#accuracy = svm_model_linear.score(X_test, y_test) \n",
    "  \n",
    "print \"SVM Results\\nConfusion Matrix:\" \n",
    "print confusion_matrix(y_test.argmax(axis=1), svm_predictions) \n",
    "print \"\\n Classifcation Report\"\n",
    "print classification_report(y_test.argmax(axis=1),svm_predictions)"
   ]
  },
  {
   "cell_type": "markdown",
   "metadata": {},
   "source": [
    "# Decision Tree"
   ]
  },
  {
   "cell_type": "code",
   "execution_count": 24,
   "metadata": {},
   "outputs": [
    {
     "name": "stdout",
     "output_type": "stream",
     "text": [
      "Decision Tree Results\n",
      "Confusion Matrix:\n",
      "[[1543  124    1    0]\n",
      " [ 516  510   33    2]\n",
      " [  77  134   63   17]\n",
      " [  24   20   26   24]]\n",
      "\n",
      " Classifcation Report\n",
      "             precision    recall  f1-score   support\n",
      "\n",
      "          0       0.87      0.71      0.78      1668\n",
      "          1       0.65      0.48      0.55      1061\n",
      "          2       0.51      0.22      0.30       291\n",
      "          3       0.56      0.26      0.35        94\n",
      "\n",
      "avg / total       0.75      0.57      0.65      3114\n",
      "\n"
     ]
    }
   ],
   "source": [
    "from sklearn import tree \n",
    "dtc = tree.DecisionTreeClassifier(criterion='entropy', max_depth=4)\n",
    "dtc.fit(X_train_scaled, y_train)\n",
    "predicted = dtc.predict(X_test_scaled)\n",
    "\n",
    "\n",
    "print \"Decision Tree Results\\nConfusion Matrix:\"\n",
    "print confusion_matrix(y_test.argmax(axis=1), predicted.argmax(axis=1))\n",
    "\n",
    "print \"\\n Classifcation Report\"\n",
    "print classification_report(y_test,predicted)"
   ]
  },
  {
   "cell_type": "code",
   "execution_count": null,
   "metadata": {
    "collapsed": true
   },
   "outputs": [],
   "source": []
  }
 ],
 "metadata": {
  "kernelspec": {
   "display_name": "Python 2",
   "language": "python",
   "name": "python2"
  },
  "language_info": {
   "codemirror_mode": {
    "name": "ipython",
    "version": 2
   },
   "file_extension": ".py",
   "mimetype": "text/x-python",
   "name": "python",
   "nbconvert_exporter": "python",
   "pygments_lexer": "ipython2",
   "version": "2.7.14"
  }
 },
 "nbformat": 4,
 "nbformat_minor": 2
}
